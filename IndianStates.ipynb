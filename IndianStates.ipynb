{
 "cells": [
  {
   "cell_type": "markdown",
   "id": "cf82b1eb",
   "metadata": {},
   "source": [
    "Scrap data from web sources about per-capita income of Indian citizen different state-wise. Analyse them. Create Geographical chart differentiate with colours of per-capita Income.\n",
    "\n",
    "Example: It’s the example using landslide you have to create on Per-capita income index.\n",
    "\n",
    "Number of landslides in India state-wise"
   ]
  },
  {
   "cell_type": "code",
   "execution_count": null,
   "id": "4c98475e",
   "metadata": {},
   "outputs": [],
   "source": [
    "pip install beautifulsoup4"
   ]
  },
  {
   "cell_type": "code",
   "execution_count": 2,
   "id": "b61102ff",
   "metadata": {},
   "outputs": [
    {
     "name": "stderr",
     "output_type": "stream",
     "text": [
      "C:\\Users\\prane\\anaconda3\\lib\\site-packages\\geopandas\\plotting.py:695: UserWarning: The GeoDataFrame you are attempting to plot is empty. Nothing has been displayed.\n",
      "  warnings.warn(\n"
     ]
    },
    {
     "data": {
      "image/png": "[encoded data removed]",
      "text/plain": [
       "<Figure size 640x480 with 1 Axes>"
      ]
     },
     "metadata": {},
     "output_type": "display_data"
    }
   ],
   "source": [
    "import pandas as pd\n",
    "import geopandas as gpd\n",
    "import matplotlib.pyplot as plt\n",
    "\n",
    "# Step 2: Read the data into a DataFrame\n",
    "income_data = pd.read_csv('C:\\\\Users\\\\prane\\\\OneDrive\\\\Desktop\\\\ML\\\\DS3\\\\income_data.csv')\n",
    "\n",
    "# Step 4: Load the geographical data\n",
    "shapefile_path = 'C:\\\\Users\\\\prane\\\\OneDrive\\\\Desktop\\\\ML\\\\DS3\\\\Indian_States.shp'\n",
    "geo_data = gpd.read_file(shapefile_path)\n",
    "\n",
    "# Step 5: Merge the data\n",
    "merged_data = geo_data.merge(income_data, left_on='geometry', right_on='State')\n",
    "\n",
    "# Step 6: Create the geographical chart\n",
    "fig, ax = plt.subplots(1, 1)\n",
    "ax.set_aspect('equal')\n",
    "merged_data.plot(column='Per Capita Income', cmap='coolwarm', linewidth=0.8, ax=ax, edgecolor='0.8')\n",
    "plt.title('Per Capita Income Index - India')\n",
    "plt.show()"
   ]
  },
  {
   "cell_type": "code",
   "execution_count": 3,
   "id": "73eb8b96",
   "metadata": {},
   "outputs": [
    {
     "name": "stdout",
     "output_type": "stream",
     "text": [
      "Index(['geometry'], dtype='object')\n"
     ]
    }
   ],
   "source": [
    "import geopandas as gpd\n",
    "\n",
    "# Set the SHAPE_RESTORE_SHX config option to YES\n",
    "gpd.io.file.fiona.drvsupport.supported_drivers['ESRI Shapefile'] = 'rw'\n",
    "gpd.io.file.fiona.drvsupport.supported_drivers['ESRI Shapefile'] = 'r'\n",
    "\n",
    "# Read the shapefile\n",
    "shapefile_path ='C:\\\\Users\\\\prane\\\\OneDrive\\\\Desktop\\\\ML\\\\DS3\\\\Indian_States.shx'\n",
    "geo_data = gpd.read_file(shapefile_path)\n",
    "\n",
    "print(geo_data.columns)\n",
    "merged_data = geo_data.merge(income_data, left_on='geometry', right_on='State')"
   ]
  },
  {
   "cell_type": "code",
   "execution_count": 4,
   "id": "cf4a8899",
   "metadata": {},
   "outputs": [
    {
     "name": "stdout",
     "output_type": "stream",
     "text": [
      "Empty GeoDataFrame\n",
      "Columns: [geometry, State, Per Capita Income(₹)]\n",
      "Index: []\n",
      "(0, 3)\n"
     ]
    }
   ],
   "source": [
    "print(merged_data.head())\n",
    "print(merged_data.shape)"
   ]
  },
  {
   "cell_type": "code",
   "execution_count": 5,
   "id": "0add20a9",
   "metadata": {},
   "outputs": [
    {
     "name": "stdout",
     "output_type": "stream",
     "text": [
      "Index(['geometry'], dtype='object')\n",
      "Index(['State', 'Per Capita Income(₹)'], dtype='object')\n"
     ]
    }
   ],
   "source": [
    "print(geo_data.columns) \n",
    "print(income_data.columns)"
   ]
  },
  {
   "cell_type": "code",
   "execution_count": 9,
   "id": "4c0631d5",
   "metadata": {},
   "outputs": [
    {
     "name": "stdout",
     "output_type": "stream",
     "text": [
      "                                            geometry\n",
      "0  MULTIPOLYGON (((93.71976 7.20707, 93.71909 7.2...\n",
      "1  POLYGON ((96.16261 29.38078, 96.16860 29.37432...\n",
      "2  MULTIPOLYGON (((89.74323 26.30362, 89.74290 26...\n",
      "3  MULTIPOLYGON (((84.50720 24.26323, 84.50355 24...\n",
      "4  POLYGON ((76.84147 30.75996, 76.83599 30.73623...\n",
      "            State Per Capita Income(₹)\n",
      "0  Andhra Pradesh           ₹ 2,07,771\n",
      "1       Telangana           ₹ 2,75,443\n",
      "2       Karnataka           ₹ 2,65,623\n",
      "3      Tamil Nadu           ₹ 2,41,131\n",
      "4         Kerala            ₹ 2,30,601\n",
      "Index(['geometry'], dtype='object')\n",
      "Empty GeoDataFrame\n",
      "Columns: [geometry, State, Per Capita Income(₹)]\n",
      "Index: []\n",
      "The merged_data GeoDataFrame is empty.\n"
     ]
    }
   ],
   "source": [
    "import geopandas as gpd\n",
    "import pandas as pd\n",
    "import matplotlib.pyplot as plt\n",
    "\n",
    "# Step 1: Load the 'income_data' DataFrame from the 'income_data.csv' file\n",
    "income_data = pd.read_csv('C:\\\\Users\\\\prane\\\\OneDrive\\\\Desktop\\\\ML\\\\DS3\\\\income_data.csv')\n",
    "\n",
    "# Step 4: Load the geographical data\n",
    "shapefile_path = 'C:\\\\Users\\\\prane\\\\OneDrive\\\\Desktop\\\\ML\\\\DS3\\\\Indian_States.shp'\n",
    "geo_data = gpd.read_file(shapefile_path)\n",
    "\n",
    "# Step 3: Verify the data in 'geo_data' and 'income_data'\n",
    "print(geo_data.head())\n",
    "print(income_data.head())\n",
    "\n",
    "# Step 4: Identify the column names for merging\n",
    "# Print the column names in 'geo_data' to find the one containing state names\n",
    "print(geo_data.columns)\n",
    "\n",
    "# Replace 'replace_with_actual_column_name' with the correct column name containing state names in 'geo_data'\n",
    "# For example, if the column name containing state names is 'State_Name', use 'State_Name' in the merge operation\n",
    "\n",
    "merged_data = geo_data.merge(income_data, left_on='geometry', right_on='State')\n",
    "\n",
    "# Step 5: Verify the merged data\n",
    "print(merged_data.head())\n",
    "\n",
    "# Step 6: Create the geographical chart\n",
    "if not merged_data.empty:\n",
    "    fig, ax = plt.subplots(1, 1)\n",
    "    ax.set_aspect('equal')\n",
    "    merged_data.plot(column='Per Capita Income', cmap='coolwarm', linewidth=0.8, ax=ax, edgecolor='0.8')\n",
    "    plt.title('Per Capita Income Index - India')\n",
    "    plt.show()\n",
    "else:\n",
    "    print(\"The merged_data GeoDataFrame is empty.\")\n"
   ]
  },
  {
   "cell_type": "code",
   "execution_count": null,
   "id": "8c69f48e",
   "metadata": {},
   "outputs": [],
   "source": []
  }
 ],
 "metadata": {
  "kernelspec": {
   "display_name": "Python 3 (ipykernel)",
   "language": "python",
   "name": "python3"
  },
  "language_info": {
   "codemirror_mode": {
    "name": "ipython",
    "version": 3
   },
   "file_extension": ".py",
   "mimetype": "text/x-python",
   "name": "python",
   "nbconvert_exporter": "python",
   "pygments_lexer": "ipython3",
   "version": "3.11.3"
  }
 },
 "nbformat": 4,
 "nbformat_minor": 5
}
